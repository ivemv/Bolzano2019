{
 "cells": [
  {
   "cell_type": "markdown",
   "metadata": {},
   "source": [
    "### 2018 Lahar season: Montegrande ravine \n",
    "|<span style=\"color:white\">- | <span style=\"color:white\">- | <span style=\"color:#59afe1\"> INFRA | <span style=\"color:white\">- | <span style=\"color:white\">- | <span style=\"color:red\">RESCO  |  <span style=\"color:white\">- | <span style=\"color:white\">- | <span style=\"color:blue\">CGEO | <span style=\"color:white\">- | <span style=\"color:white\">- | <span style=\"color:green\">CUBE | <span style=\"color:white\">- | <span style=\"color:white\">- |\n",
    "| --: | --: | --: | --: | --: | --: | --: | --: | --: | --: | --: | --: | --: | --: |\n",
    "| Event  | Date/Hour | Max. Amp | Freq. range | Max. freq | Max. Amp | Freq. range | Max. freq | Max. Amp | Freq. range | Max. freq | Max. Amp | Freq. range | Max. freq |\n",
    "| 1  | 09/07 20:30-23:00| 1142 | 10-16,26-30  | 14, 27.5 | 0.45 | 8-25 | 10.5 | - | - | - | - | - | - |\n",
    "| **2**  | 15/07 21:30-23:30| 200 | 12-16, 26-30 | 13.5, 29 | 0.12 | 8-33 | 26 | 0.25 | 10-42 | 22 | 0.1 | 18-80 | 45 |\n",
    "| **3**  | 28/07 22:30-24| 1328 | 12-18, 28-31 | 14, 28 | 0.53 | 5-35 | 12 | 0.28 | 12-40 | 22 | 0.19 | 12-40 | 25 |\n",
    "| **4**  | 16/08 19:00-22:00| 150 | 11-18, 24-28 | 13 | 0.07 | 13-33 | 23 | 0.18 | 10-43 | 34.5 | 0.04 | 25-42 | 37 |\n",
    "| **5**  | 17/08 22:20-24| 460 | 11-16, 27-31 | 13.5 | 0.04 | 9-31 | 15 | 0.32 | 10-44 | 21.5 | 3 | 11-41 | 25.5 |\n",
    "| **6**  | 18/08 23:30-01:30| 541 | 11-16, 26-3.5 | 13.5,28.5 | 0.3 | 8-23 | 12.5 | 1.9 | 9-25 | 12 | 0.19 | 10.5-30 | 13.5 |\n",
    "| **7**  | 22/08 23:20-01:00| 217 | 10-16, 26-30 | 13, 28 | 0.18 | 8-28 | 12 | 2 | 9-27 | 12 | 0.22 | 11-31 | 13.5 |\n",
    "| **8**  | 23/08 22:20-24| 564 | 11-15.5, 25.5-30 | 13, 26.5 | 0.39 | 7-24 | 10.5 | 2.5 | 8-24 | 12 | 0.21 | 9-26 | 13 |\n",
    "| 9  | 10/09 19:30-21:00| 167 | 12-16, 24-30 | 13.5, 28 | 0.13 | 8-33 | 23.5 | - | - | - | 0.14 | 10-42 | 16 |\n",
    "| 10  | 23/09 04:30-06:30| 429 | 11-15, 24-30 | 13.5, 29 | 0.44 | 7-29 | 11 | - | - | - | 0.19 | 10-40 | 13.5 |\n",
    "| 11  | 24/09 01:00-02:15| 79 | 10-16, 26-31 | 13, 29.5 | 0.07 | 4-30 | 11 | - | - | - | 0.2 | 9-41 | 15.5 |\n",
    "| 12  | 03/10 23:15-01:30| 476 | 10.5-16, 24-30 | 13, 28 | 0.4 | 6-27 | 11.5 | - | - | - | 0.18 | 8-42 | 13.5 |\n",
    "| 13  | 06/10 19:00-21:00| 73 | 11-16, 24-29.5 | 13.5, 27.5 | 0.05 | 8-37 | 22 | - | - | - | 0.02 | 12-43 | 27 |\n",
    "| **14**  | 06/10 23:30-01:30| 280 | 10-16, 26.5-30 | 13, 28 | 0.09 | 8-27 | 11 | 0.66 | 9-44 | 16.5 | 0.19 | 11-41 | 13.5 |\n",
    "| 15  | 12/10 18:45-20:45| 488 | 11-16, 23-30 | 13.5, 27.5 | 0.5 | 7-28 | 11 | 1.8 | 7-36 | 11.5 | - | - | - |\n",
    "| 16  | 19/10 23:30-01:00| 408 | 11-16, 25-30 | 13.5, 27.5 | 0.44 | 7-28 | 10.5 | 1.2 | 10-27 | 18.2 | 0.2 | 8-42 | 13.5 |\n",
    "| 17  | 28/10 22:30-23:30| 441 | 10-16, 25-30 | 13.5, 27.5 | 0.13 | 8-26 | 11 | 0.99 | 9-43 | 16 | 0.2 | 10-40 | 15 |\n",
    "\n",
    "+ Values of infrasound amplitude in mPa.\n",
    "+ Values of seismic amplitude in mm/s."
   ]
  },
  {
   "cell_type": "markdown",
   "metadata": {},
   "source": [
    "### 8 con tres estaciones "
   ]
  },
  {
   "cell_type": "markdown",
   "metadata": {},
   "source": [
    "\n",
    "### Lahares 2018: barranca Montegrande (con 2 estaciones) RESCO Y CUBE\n",
    "| - | - | - | <span style=\"color:#59afe1\"> Infra | - | - | <span style=\"color:red\"> RESCO | - | - | <span style=\"color:green\"> CUBE | - | - | \n",
    "|--|--|--|--|--|--|--|--|--|--|--|--|\n",
    "| Num | Fecha y hora (GMT) | Duración | Amplitud Máx <sup>1</sup> | Rango de Frec<sup>2</sup> | Frec. Máx <sup>2</sup>. | Amplitud Máx<sup>1</sup>. | Rango de frec<sup>2</sup>. | Frec. Máx<sup>2</sup>. | Amplitud Máx<sup>1</sup>. | Rango de frec<sup>2</sup>. | Frec. Máx<sup>2</sup>. | \n",
    "| **L12** | 10/09 19:30-21:00 | 1h30min | ~65,000 | 12-16, 24-30 | 13.5,28 | ~42,000 | 8-33 | 23.5 | ~8,000,000 | 10-42 | 16 | \n",
    "| **L13** |23/09 04:30-6:30 | 2h | ~170,000 | 11-15, 24-30 | 13.5, 29 | ~130,000 | 7-29 | 11 | ~10,000,000 | 10-40 | 13.5 |\n",
    "| **L14** |24/09 01:15-? | - | - | - | - | - | - | - | - | - | - |  \n",
    "| **L15** | 03/10 23:20-01:30(04/10) | ~1h30min | ~190,000 | 10.5-16, 24-30 | 13,28 | ~120,000 | 6-27 | 11.5 | ~9,500,000 | 8-42 | 13.5 |   \n",
    "| **L16** |06/10 19:00-20:45 | ~1h30min | ~29,000 | 11-16, 24-29.5 | 13.5, 27.5 | ~15,000 | 8-37 | 22 | ~1,300,000 | 12-43 | 27 |   \n",
    "\n",
    "\n",
    "#### 1-Valores de amplitud en cuentas\n",
    "#### 2-Valores de frecuencia en Hertz\n",
    " "
   ]
  },
  {
   "cell_type": "code",
   "execution_count": null,
   "metadata": {},
   "outputs": [],
   "source": []
  }
 ],
 "metadata": {
  "@webio": {
   "lastCommId": null,
   "lastKernelId": null
  },
  "kernelspec": {
   "display_name": "Python 3",
   "language": "python",
   "name": "python3"
  },
  "language_info": {
   "codemirror_mode": {
    "name": "ipython",
    "version": 3
   },
   "file_extension": ".py",
   "mimetype": "text/x-python",
   "name": "python",
   "nbconvert_exporter": "python",
   "pygments_lexer": "ipython3",
   "version": "3.7.3"
  }
 },
 "nbformat": 4,
 "nbformat_minor": 2
}
