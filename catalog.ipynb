{
 "cells": [
  {
   "cell_type": "markdown",
   "metadata": {},
   "source": [
    "\n",
    "### Lahares 2018: barranca Montegrande\n",
    "| | RESCO | | | | RBerry | | | | CUBE | | | |\n",
    "|--|--|--|--|--|--|\n",
    "| Fecha y hora (GMT) | Duración | Amplitud Máx. | Rango de frec. | Frec. Máx. |  Duración | Amplitud Máx. | Rango de frec. | Frec. Máx. |  Duración | Amplitud Máx. | Rango de frec. | Frec. Máx. |\n",
    "| 07/05 8:45-10:20 | 1h35m | | | | | | | | | | | |\n",
    "| 09/07 21:00-22:30 | 1h30m | | | | | | | | | | | |\n",
    "| 15/07 21:45-23:00 | 1h15m | | | | | | | | | | | |\n",
    "| 25/07 13:20-21? | revisar | | | | | | | | | | | | |\n",
    "| 28/07 22:20-24 | 1h40m*rev* | | | | | | | |\n",
    "| 30/07 13:15-15:30 | 2h15m | | | | | | | | | | | |\n",
    "| 16/08 19:45-21:00 | 1h15m | | | | | | | | | | | |\n",
    "| 17/08 22:00-24 | 2h | | | | | | | | | | | |\n",
    "| 18/08 23:30-00:32(19/08) | 1h2m | | | | | | | | | | | | \n",
    "| 22/08 19:30-00:15(23/08) | 4h45m | | | | | | | | | | | |\n",
    "| 23/08 22:10-23:00 | 1h10m | | | | | | | | | | | |\n",
    "| 10/09 19:30-22:30 | 1h | | | | | | | | | | | |\n",
    "| 23/09 04:40-06:00 | 1h20m | | | | | | | | | | | |\n",
    "| 24/09 01:15-? | 1h*rev* | señal| cortada | | | | | | | | | |\n",
    "| 03/10 23:20-01:30(4/10) | 2h10m | | | | | | | | | | | |\n",
    "| 06/10 19:00-20:45 | 1h30m | | | | | | | | | | | |\n",
    "| 06/10 23:45-01:15(7/10) | 1h30m | | | | | | | | | | | |\n",
    "| 12/10 19:30-20:45 | 1h15m | | | | | | | | | | | |\n",
    "| 17/10 22:15-23:15 | ~1h | | | | | | | | | | | | \n",
    "| 19/10 23:05-01(20/10) | 1h5m | | | | | | | | | | | | \n",
    "| 28/10 ~22:30-23:30 | 2h | | | | | | | | | | | | \n",
    "\n",
    "\n"
   ]
  },
  {
   "cell_type": "code",
   "execution_count": null,
   "metadata": {},
   "outputs": [],
   "source": []
  }
 ],
 "metadata": {
  "kernelspec": {
   "display_name": "Python 3",
   "language": "python",
   "name": "python3"
  },
  "language_info": {
   "codemirror_mode": {
    "name": "ipython",
    "version": 3
   },
   "file_extension": ".py",
   "mimetype": "text/x-python",
   "name": "python",
   "nbconvert_exporter": "python",
   "pygments_lexer": "ipython3",
   "version": "3.6.4"
  }
 },
 "nbformat": 4,
 "nbformat_minor": 2
}
